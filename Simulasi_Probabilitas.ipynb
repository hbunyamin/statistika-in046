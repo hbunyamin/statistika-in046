{
 "cells": [
  {
   "cell_type": "markdown",
   "metadata": {},
   "source": [
    "# Simulasi Probabilitas atau Peluang"
   ]
  },
  {
   "cell_type": "markdown",
   "metadata": {},
   "source": [
    "![](bag-of-numbers.jpg)*Ten numbers; unfortunately, the image does not show a bag. Image taken from [The Therapy Store](https://www.thetherapystore.com.au/product/numbers-bean-bag-set/), some rights reserved.*"
   ]
  },
  {
   "cell_type": "markdown",
   "metadata": {},
   "source": [
    "## <a id=\"home\">Table of Contents</a>\n",
    "1. [Simulasi ke-1 pengambilan satu angka dengan mata tertutup](#satu-angka-pertama)\n",
    "2. [Simulasi ke-2 pengambilan satu angka dengan mata tertutup](#satu-angka-kedua)\n",
    "3. [Law of large numbers](#law-of-large-numbers)\n",
    "\n",
    "Go to [The End](#the-end)"
   ]
  },
  {
   "cell_type": "markdown",
   "metadata": {},
   "source": [
    "## <a id=\"satu-angka-pertama\">Simulasi ke-1 pengambilan satu angka dengan mata tertutup</a> (Back to [Home](#home))"
   ]
  },
  {
   "cell_type": "markdown",
   "metadata": {},
   "source": [
    "Diketahui `kantong_bilangan` yang berisi $10$ bilangan.    "
   ]
  },
  {
   "cell_type": "code",
   "execution_count": 2,
   "metadata": {},
   "outputs": [],
   "source": [
    "kantong_bilangan = [1,2,3,4,5,6,7,8,9,10]"
   ]
  },
  {
   "cell_type": "code",
   "execution_count": 6,
   "metadata": {},
   "outputs": [
    {
     "data": {
      "text/plain": [
       "2"
      ]
     },
     "execution_count": 6,
     "metadata": {},
     "output_type": "execute_result"
    }
   ],
   "source": [
    "indeks = 1\n",
    "kantong_bilangan[indeks]"
   ]
  },
  {
   "cell_type": "markdown",
   "metadata": {},
   "source": [
    "Misalkan kita hendak mengambil satu bilangan dari `kantong_bilangan` secara acak atau mata tertutup.     \n",
    "Untuk memilih satu bilangan dari `kantong_bilangan` secara acak, kita dapat memilih indeks ($0-9$) dari `kantong_bilangan` secara acak.     \n",
    "Kita dapat menggunakan kelas `random` dari _package_ `numpy`. "
   ]
  },
  {
   "cell_type": "code",
   "execution_count": 7,
   "metadata": {},
   "outputs": [],
   "source": [
    "%reload_ext autoreload\n",
    "%autoreload 2\n",
    "%matplotlib inline"
   ]
  },
  {
   "cell_type": "code",
   "execution_count": 9,
   "metadata": {},
   "outputs": [],
   "source": [
    "import matplotlib.pyplot as plt\n",
    "from numpy import random\n",
    "import numpy as np"
   ]
  },
  {
   "cell_type": "markdown",
   "metadata": {},
   "source": [
    "Kita gunakan _method_ `randint(10)` untuk memilih bilangan acak dari $0$ sampai dengan $9$."
   ]
  },
  {
   "cell_type": "code",
   "execution_count": 26,
   "metadata": {},
   "outputs": [
    {
     "data": {
      "text/plain": [
       "1"
      ]
     },
     "execution_count": 26,
     "metadata": {},
     "output_type": "execute_result"
    }
   ],
   "source": [
    "random.randint(5)"
   ]
  },
  {
   "cell_type": "code",
   "execution_count": 46,
   "metadata": {},
   "outputs": [
    {
     "name": "stdout",
     "output_type": "stream",
     "text": [
      "Bilangan acak yang dipilih adalah 10\n"
     ]
    }
   ],
   "source": [
    "indeks_acak = random.randint(10)\n",
    "bilangan_acak = kantong_bilangan[indeks_acak]\n",
    "print(f\"Bilangan acak yang dipilih adalah {bilangan_acak}\")"
   ]
  },
  {
   "cell_type": "markdown",
   "metadata": {},
   "source": [
    "### Pertanyaan:\n",
    "1. Berapakah peluang bilangan acak yang diambil adalah $4$?\n",
    "2. Lakukan pengambilan/pemilihan bilangan acak tersebut selama $10$ kali.     \n",
    "Tuliskan bilangan yang diambil di _cell_ bawah."
   ]
  },
  {
   "cell_type": "markdown",
   "metadata": {},
   "source": [
    "**Jawab**:     \n",
    "1. $\\frac{1}{10} = 0.1$\n",
    "2. Ambil ke-1 : 6     \n",
    "   Ambil ke-2 : 3     \n",
    "   Ambil ke-3 : 8     \n",
    "   Ambil ke-4 : 2    \n",
    "   Ambil ke-5 : 6    \n",
    "   Ambil ke-6 : 2    \n",
    "   Ambil ke-7 : 2    \n",
    "   Ambil ke-8 : 8    \n",
    "   Ambil ke-9 : 4    \n",
    "   Ambil ke-10 : 10     \n",
    "\n",
    "Dari 10 _trials_ tersebut, kita memperoleh peluang munculnya angka 4 adalah\n",
    "    $$ \\frac{1}{10} $$\n"
   ]
  },
  {
   "cell_type": "markdown",
   "metadata": {},
   "source": [
    "## <a id=\"satu-angka-kedua\">Simulasi ke-2 pengambilan satu angka dengan mata tertutup</a> (Back to [Home](#home))"
   ]
  },
  {
   "cell_type": "markdown",
   "metadata": {},
   "source": [
    "Misalkan `kantong_bilangan` yang kita punya dimodifikasi menjadi sbb:"
   ]
  },
  {
   "cell_type": "code",
   "execution_count": 49,
   "metadata": {},
   "outputs": [],
   "source": [
    "kantong_bilangan = [4,4,4,4,4,4,4,4,9,10]"
   ]
  },
  {
   "cell_type": "code",
   "execution_count": 72,
   "metadata": {},
   "outputs": [
    {
     "name": "stdout",
     "output_type": "stream",
     "text": [
      "Bilangan acak yang dipilih adalah 9\n"
     ]
    }
   ],
   "source": [
    "indeks_acak = random.randint(10)\n",
    "bilangan_acak = kantong_bilangan[indeks_acak]\n",
    "print(f\"Bilangan acak yang dipilih adalah {bilangan_acak}\")"
   ]
  },
  {
   "cell_type": "markdown",
   "metadata": {},
   "source": [
    "### Pertanyaan:\n",
    "1. Berapakah peluang bilangan acak yang diambil adalah $4$?\n",
    "2. Lakukan pengambilan/pemilihan bilangan acak tersebut selama $10$ kali.     \n",
    "Tuliskan bilangan yang diambil di _cell_ bawah."
   ]
  },
  {
   "cell_type": "markdown",
   "metadata": {},
   "source": [
    "**Jawab**:     \n",
    "1. _Tulis jawaban anda di sini_    \n",
    "2. _Tulis jawaban anda di sini_    "
   ]
  },
  {
   "cell_type": "markdown",
   "metadata": {},
   "source": [
    "## <a id=\"law-of-large-numbers\">Law of Large Numbers</a> (Back to [Home](#home))"
   ]
  },
  {
   "cell_type": "markdown",
   "metadata": {},
   "source": [
    "**Law of large numbers** ada di halaman **136** dari buku teks."
   ]
  },
  {
   "cell_type": "markdown",
   "metadata": {},
   "source": [
    "> #### LAW OF LARGE NUMBERS\n",
    "As _an experiment is repeated over and over, the empirical probability of an event_ **approaches the theoretical (actual) probability of the event**."
   ]
  },
  {
   "cell_type": "code",
   "execution_count": 83,
   "metadata": {},
   "outputs": [],
   "source": [
    "# Maksimum pengambilan yang dilakukan\n",
    "MAX_AMBIL = 300\n",
    "num_of_ambil = np.arange(1,MAX_AMBIL+1)"
   ]
  },
  {
   "cell_type": "code",
   "execution_count": 84,
   "metadata": {},
   "outputs": [
    {
     "data": {
      "text/plain": [
       "array([ 1,  2,  3,  4,  5,  6,  7,  8,  9, 10])"
      ]
     },
     "execution_count": 84,
     "metadata": {},
     "output_type": "execute_result"
    }
   ],
   "source": [
    "num_of_ambil[:10]"
   ]
  },
  {
   "cell_type": "code",
   "execution_count": 85,
   "metadata": {},
   "outputs": [
    {
     "name": "stdout",
     "output_type": "stream",
     "text": [
      "Peluang angka 4 dengan banyak eksperimen 10 adalah 0.0\n",
      "Peluang angka 4 dengan banyak eksperimen 20 adalah 0.1\n",
      "Peluang angka 4 dengan banyak eksperimen 30 adalah 0.06666666666666667\n",
      "Peluang angka 4 dengan banyak eksperimen 40 adalah 0.1\n",
      "Peluang angka 4 dengan banyak eksperimen 50 adalah 0.14\n",
      "Peluang angka 4 dengan banyak eksperimen 60 adalah 0.1\n",
      "Peluang angka 4 dengan banyak eksperimen 70 adalah 0.04285714285714286\n",
      "Peluang angka 4 dengan banyak eksperimen 80 adalah 0.0625\n",
      "Peluang angka 4 dengan banyak eksperimen 90 adalah 0.07777777777777778\n",
      "Peluang angka 4 dengan banyak eksperimen 100 adalah 0.08\n",
      "Peluang angka 4 dengan banyak eksperimen 110 adalah 0.11818181818181818\n",
      "Peluang angka 4 dengan banyak eksperimen 120 adalah 0.10833333333333334\n",
      "Peluang angka 4 dengan banyak eksperimen 130 adalah 0.12307692307692308\n",
      "Peluang angka 4 dengan banyak eksperimen 140 adalah 0.12142857142857143\n",
      "Peluang angka 4 dengan banyak eksperimen 150 adalah 0.12\n",
      "Peluang angka 4 dengan banyak eksperimen 160 adalah 0.0875\n",
      "Peluang angka 4 dengan banyak eksperimen 170 adalah 0.12352941176470589\n",
      "Peluang angka 4 dengan banyak eksperimen 180 adalah 0.13333333333333333\n",
      "Peluang angka 4 dengan banyak eksperimen 190 adalah 0.07368421052631578\n",
      "Peluang angka 4 dengan banyak eksperimen 200 adalah 0.105\n",
      "Peluang angka 4 dengan banyak eksperimen 210 adalah 0.05238095238095238\n",
      "Peluang angka 4 dengan banyak eksperimen 220 adalah 0.1\n",
      "Peluang angka 4 dengan banyak eksperimen 230 adalah 0.09130434782608696\n",
      "Peluang angka 4 dengan banyak eksperimen 240 adalah 0.1625\n",
      "Peluang angka 4 dengan banyak eksperimen 250 adalah 0.116\n",
      "Peluang angka 4 dengan banyak eksperimen 260 adalah 0.07307692307692308\n",
      "Peluang angka 4 dengan banyak eksperimen 270 adalah 0.1037037037037037\n",
      "Peluang angka 4 dengan banyak eksperimen 280 adalah 0.10357142857142858\n",
      "Peluang angka 4 dengan banyak eksperimen 290 adalah 0.10689655172413794\n",
      "Peluang angka 4 dengan banyak eksperimen 300 adalah 0.09333333333333334\n"
     ]
    }
   ],
   "source": [
    "# Inisialisasi kantong_bilangan mula-mula\n",
    "kantong_bilangan = [1,2,3,4,5,6,7,8,9,10]\n",
    "\n",
    "# Inisialisasi frekuensi kemunculan angka 4\n",
    "proportion_of_fours = []\n",
    "\n",
    "# Untuk setiap pengambilan \n",
    "for counter_toss in num_of_ambil:\n",
    "    # Initialize frekuensi kemunculan angka 4\n",
    "    frek_angka_4 = 0\n",
    "    \n",
    "    # Memulai pengambilan dari 0 sampai dengan (counter_toss - 1)\n",
    "    for counter in range(counter_toss):\n",
    "        # Memilih indeks dari dari 0 sampai dengan 9 \n",
    "        indeks_acak = random.randint(10)\n",
    "        \n",
    "        # Memilih bilangan acak berdasarkan indeks tersebut        \n",
    "        bil_acak = kantong_bilangan[indeks_acak]\n",
    "        \n",
    "        # Jika bilangan acak sama dengan 4, tambahkan frekuensi kemunculan angka 4\n",
    "        if bil_acak == 4:\n",
    "            frek_angka_4 += 1\n",
    "    \n",
    "    # Pengambilan selesai, hitunglah peluang munculnya angka 4\n",
    "    prob_angka_4 = float(frek_angka_4) / counter_toss\n",
    "    \n",
    "    # Masukkan peluang tersebut ke dalam proporsi dari munculnya angka 4\n",
    "    proportion_of_fours.append(prob_angka_4)    \n",
    "    \n",
    "    if counter_toss % 10 == 0:\n",
    "        print(f\"Peluang angka 4 dengan banyak eksperimen {counter_toss} adalah {prob_angka_4}\")"
   ]
  },
  {
   "cell_type": "code",
   "execution_count": 86,
   "metadata": {},
   "outputs": [
    {
     "data": {
      "text/plain": [
       "Text(0, 0.5, 'Proportions that are 4')"
      ]
     },
     "execution_count": 86,
     "metadata": {},
     "output_type": "execute_result"
    },
    {
     "data": {
      "image/png": "[encoded data removed]",
      "text/plain": [
       "<Figure size 432x288 with 1 Axes>"
      ]
     },
     "metadata": {
      "needs_background": "light"
     },
     "output_type": "display_data"
    }
   ],
   "source": [
    "# x_coordinates = [0,0.1]\n",
    "# y_coordinates = [MAX_TOSSES,0.1]\n",
    "plt.plot(num_of_ambil, proportion_of_fours)\n",
    "plt.hlines(0.1, 1, MAX_AMBIL, colors='k', linestyles='solid')\n",
    "plt.xlabel(\"Number of pengambilan\")\n",
    "plt.ylabel(\"Proportions that are 4\")"
   ]
  },
  {
   "cell_type": "markdown",
   "metadata": {},
   "source": [
    "Dalam eksperimen berikut, isi dari kantong bilangan diubah sedikit."
   ]
  },
  {
   "cell_type": "code",
   "execution_count": 90,
   "metadata": {},
   "outputs": [],
   "source": [
    "MAX_TOSSES = 300\n",
    "num_of_ambil = np.arange(1,MAX_TOSSES+1)"
   ]
  },
  {
   "cell_type": "code",
   "execution_count": 91,
   "metadata": {},
   "outputs": [
    {
     "name": "stdout",
     "output_type": "stream",
     "text": [
      "Peluang angka 4 dengan banyak eksperimen 10 adalah 0.9\n",
      "Peluang angka 4 dengan banyak eksperimen 20 adalah 0.7\n",
      "Peluang angka 4 dengan banyak eksperimen 30 adalah 0.8666666666666667\n",
      "Peluang angka 4 dengan banyak eksperimen 40 adalah 0.925\n",
      "Peluang angka 4 dengan banyak eksperimen 50 adalah 0.76\n",
      "Peluang angka 4 dengan banyak eksperimen 60 adalah 0.8\n",
      "Peluang angka 4 dengan banyak eksperimen 70 adalah 0.7571428571428571\n",
      "Peluang angka 4 dengan banyak eksperimen 80 adalah 0.8625\n",
      "Peluang angka 4 dengan banyak eksperimen 90 adalah 0.7888888888888889\n",
      "Peluang angka 4 dengan banyak eksperimen 100 adalah 0.8\n",
      "Peluang angka 4 dengan banyak eksperimen 110 adalah 0.7909090909090909\n",
      "Peluang angka 4 dengan banyak eksperimen 120 adalah 0.8\n",
      "Peluang angka 4 dengan banyak eksperimen 130 adalah 0.8153846153846154\n",
      "Peluang angka 4 dengan banyak eksperimen 140 adalah 0.8071428571428572\n",
      "Peluang angka 4 dengan banyak eksperimen 150 adalah 0.7733333333333333\n",
      "Peluang angka 4 dengan banyak eksperimen 160 adalah 0.7375\n",
      "Peluang angka 4 dengan banyak eksperimen 170 adalah 0.7941176470588235\n",
      "Peluang angka 4 dengan banyak eksperimen 180 adalah 0.8333333333333334\n",
      "Peluang angka 4 dengan banyak eksperimen 190 adalah 0.7736842105263158\n",
      "Peluang angka 4 dengan banyak eksperimen 200 adalah 0.79\n",
      "Peluang angka 4 dengan banyak eksperimen 210 adalah 0.8285714285714286\n",
      "Peluang angka 4 dengan banyak eksperimen 220 adalah 0.7727272727272727\n",
      "Peluang angka 4 dengan banyak eksperimen 230 adalah 0.8391304347826087\n",
      "Peluang angka 4 dengan banyak eksperimen 240 adalah 0.8125\n",
      "Peluang angka 4 dengan banyak eksperimen 250 adalah 0.852\n",
      "Peluang angka 4 dengan banyak eksperimen 260 adalah 0.8192307692307692\n",
      "Peluang angka 4 dengan banyak eksperimen 270 adalah 0.825925925925926\n",
      "Peluang angka 4 dengan banyak eksperimen 280 adalah 0.775\n",
      "Peluang angka 4 dengan banyak eksperimen 290 adalah 0.7931034482758621\n",
      "Peluang angka 4 dengan banyak eksperimen 300 adalah 0.81\n"
     ]
    }
   ],
   "source": [
    "# Inisialisasi kantong_bilangan mula-mula\n",
    "kantong_bilangan = [4,4,4,4,4,4,4,4,9,10]\n",
    "\n",
    "# Inisialisasi frekuensi kemunculan angka 4\n",
    "proportion_of_fours = []\n",
    "for counter_toss in num_of_ambil:\n",
    "    frek_angka_4 = 0\n",
    "    for counter in range(counter_toss):\n",
    "        indeks_acak = random.randint(10)\n",
    "        bil_acak = kantong_bilangan[indeks_acak]\n",
    "        if bil_acak == 4:\n",
    "            frek_angka_4 += 1\n",
    "    prob_angka_4 = float(frek_angka_4) / counter_toss\n",
    "    proportion_of_fours.append(prob_angka_4)    \n",
    "    if counter_toss % 10 == 0:\n",
    "        print(f\"Peluang angka 4 dengan banyak eksperimen {counter_toss} adalah {prob_angka_4}\")"
   ]
  },
  {
   "cell_type": "code",
   "execution_count": 92,
   "metadata": {},
   "outputs": [
    {
     "data": {
      "text/plain": [
       "Text(0, 0.5, 'Proportions that are 4')"
      ]
     },
     "execution_count": 92,
     "metadata": {},
     "output_type": "execute_result"
    },
    {
     "data": {
      "image/png": "[encoded data removed]",
      "text/plain": [
       "<Figure size 432x288 with 1 Axes>"
      ]
     },
     "metadata": {
      "needs_background": "light"
     },
     "output_type": "display_data"
    }
   ],
   "source": [
    "# x_coordinates = [0,0.1]\n",
    "# y_coordinates = [MAX_TOSSES,0.1]\n",
    "plt.plot(num_of_ambil, proportion_of_fours)\n",
    "plt.hlines(0.8, 1, MAX_TOSSES, colors='k', linestyles='solid')\n",
    "plt.xlabel(\"Number of tosses\")\n",
    "plt.ylabel(\"Proportions that are 4\")"
   ]
  },
  {
   "cell_type": "markdown",
   "metadata": {},
   "source": [
    "## <a id=\"the-end\">The End</a> (Back to [Home](#home))"
   ]
  }
 ],
 "metadata": {
  "kernelspec": {
   "display_name": "Python 3",
   "language": "python",
   "name": "python3"
  },
  "language_info": {
   "codemirror_mode": {
    "name": "ipython",
    "version": 3
   },
   "file_extension": ".py",
   "mimetype": "text/x-python",
   "name": "python",
   "nbconvert_exporter": "python",
   "pygments_lexer": "ipython3",
   "version": "3.7.6"
  }
 },
 "nbformat": 4,
 "nbformat_minor": 4
}
