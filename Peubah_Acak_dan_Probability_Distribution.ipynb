{
 "cells": [
  {
   "cell_type": "markdown",
   "metadata": {},
   "source": [
    "## <a id=\"home\">Table of Contents</a>\n",
    "4.1 [Probability Distributions](#4-1)     \n",
    "4.2 [Binomial Distribution](#4-2)\n",
    "\n",
    "Go to [The End](#the-end)"
   ]
  },
  {
   "cell_type": "markdown",
   "metadata": {},
   "source": [
    "## <a id=\"4-1\">4.1 Probability Distributions</a> (Back to [Home](#home))"
   ]
  },
  {
   "cell_type": "markdown",
   "metadata": {},
   "source": [
    "#### Example 2"
   ]
  },
  {
   "cell_type": "markdown",
   "metadata": {},
   "source": [
    "We will show how to generate frequency distribution of Example 2 and plot the histogram of the distribution."
   ]
  },
  {
   "cell_type": "markdown",
   "metadata": {},
   "source": [
    "Firstly, we import all the libraries."
   ]
  },
  {
   "cell_type": "code",
   "execution_count": 50,
   "metadata": {},
   "outputs": [],
   "source": [
    "from collections import defaultdict\n",
    "import matplotlib.pyplot as plt\n",
    "from numpy import random\n",
    "import numpy as np"
   ]
  },
  {
   "cell_type": "code",
   "execution_count": 49,
   "metadata": {},
   "outputs": [],
   "source": [
    "%reload_ext autoreload\n",
    "%autoreload 2\n",
    "%matplotlib inline"
   ]
  },
  {
   "cell_type": "markdown",
   "metadata": {},
   "source": [
    "We construct the dataset of scores."
   ]
  },
  {
   "cell_type": "code",
   "execution_count": 8,
   "metadata": {},
   "outputs": [],
   "source": [
    "dataset_score = [1] * 24\n",
    "score_2 = [2] * 33\n",
    "score_3 = [3] * 42\n",
    "score_4 = [4] * 30\n",
    "score_5 = [5] * 21\n",
    "dataset_score.extend(score_2)\n",
    "dataset_score.extend(score_3)\n",
    "dataset_score.extend(score_4)\n",
    "dataset_score.extend(score_5)\n"
   ]
  },
  {
   "cell_type": "markdown",
   "metadata": {},
   "source": [
    "We count the total number of scores."
   ]
  },
  {
   "cell_type": "code",
   "execution_count": 17,
   "metadata": {},
   "outputs": [],
   "source": [
    "total_data = len(dataset_score)"
   ]
  },
  {
   "cell_type": "markdown",
   "metadata": {},
   "source": [
    "We construct the **distribution frequency**."
   ]
  },
  {
   "cell_type": "code",
   "execution_count": 85,
   "metadata": {},
   "outputs": [],
   "source": [
    "def construct_dist_freq(dataset_score):\n",
    "    dist_freq = defaultdict(int)\n",
    "    for score in dataset_score:\n",
    "        dist_freq[score] += 1    \n",
    "    return dist_freq\n",
    "\n"
   ]
  },
  {
   "cell_type": "markdown",
   "metadata": {},
   "source": [
    "We construct the **probability distribution**."
   ]
  },
  {
   "cell_type": "code",
   "execution_count": 88,
   "metadata": {},
   "outputs": [],
   "source": [
    "def construct_prob_dist(dist_freq):\n",
    "    prob_dist = defaultdict(float)\n",
    "    total_data = sum(dist_freq.values())\n",
    "    for score in dist_freq.keys():\n",
    "        prob_dist[score] = float(dist_freq[score]) / total_data  \n",
    "    return prob_dist"
   ]
  },
  {
   "cell_type": "markdown",
   "metadata": {},
   "source": [
    "Let's create the distribution frequency of our dataset."
   ]
  },
  {
   "cell_type": "code",
   "execution_count": 86,
   "metadata": {},
   "outputs": [
    {
     "data": {
      "text/plain": [
       "defaultdict(int, {1: 24, 2: 33, 3: 42, 4: 30, 5: 21})"
      ]
     },
     "execution_count": 86,
     "metadata": {},
     "output_type": "execute_result"
    }
   ],
   "source": [
    "dist_freq = construct_dist_freq(dataset_score)\n",
    "dist_freq"
   ]
  },
  {
   "cell_type": "markdown",
   "metadata": {},
   "source": [
    "Let's create the probability distribution from our distribution frequency."
   ]
  },
  {
   "cell_type": "code",
   "execution_count": 87,
   "metadata": {},
   "outputs": [
    {
     "data": {
      "text/plain": [
       "defaultdict(float, {1: 0.16, 2: 0.22, 3: 0.28, 4: 0.2, 5: 0.14})"
      ]
     },
     "execution_count": 87,
     "metadata": {},
     "output_type": "execute_result"
    }
   ],
   "source": [
    "prob_dist = construct_prob_dist(dist_freq)\n",
    "prob_dist"
   ]
  },
  {
   "cell_type": "code",
   "execution_count": 90,
   "metadata": {},
   "outputs": [
    {
     "data": {
      "text/plain": [
       "defaultdict(float, {1: 0.16, 2: 0.22, 3: 0.28, 4: 0.2, 5: 0.14})"
      ]
     },
     "execution_count": 90,
     "metadata": {},
     "output_type": "execute_result"
    }
   ],
   "source": [
    "prob_dist"
   ]
  },
  {
   "cell_type": "markdown",
   "metadata": {},
   "source": [
    "We construct a method to generate one score based on the distribution frequency."
   ]
  },
  {
   "cell_type": "code",
   "execution_count": 91,
   "metadata": {},
   "outputs": [],
   "source": [
    "def generate_data(dataset_score):\n",
    "    '''\n",
    "    '''\n",
    "    num_data = len(dataset_score)\n",
    "    indeks_acak = random.randint(num_data)\n",
    "    score_acak = dataset_score[indeks_acak]\n",
    "    return score_acak"
   ]
  },
  {
   "cell_type": "code",
   "execution_count": 105,
   "metadata": {},
   "outputs": [
    {
     "data": {
      "text/plain": [
       "2"
      ]
     },
     "execution_count": 105,
     "metadata": {},
     "output_type": "execute_result"
    }
   ],
   "source": [
    "generate_data(dataset_score)"
   ]
  },
  {
   "cell_type": "markdown",
   "metadata": {},
   "source": [
    "Let's generate 100 scores. "
   ]
  },
  {
   "cell_type": "code",
   "execution_count": 92,
   "metadata": {},
   "outputs": [],
   "source": [
    "one_hundred_random_scores = []"
   ]
  },
  {
   "cell_type": "code",
   "execution_count": 93,
   "metadata": {},
   "outputs": [],
   "source": [
    "for count in range(100):\n",
    "    one_hundred_random_scores.append(generate_data(dataset_score))"
   ]
  },
  {
   "cell_type": "markdown",
   "metadata": {},
   "source": [
    "Let us compute the probability distribution for our 100 random scores."
   ]
  },
  {
   "cell_type": "code",
   "execution_count": 97,
   "metadata": {},
   "outputs": [
    {
     "data": {
      "text/plain": [
       "defaultdict(float, {5: 0.14, 1: 0.21, 3: 0.36, 4: 0.19, 2: 0.1})"
      ]
     },
     "execution_count": 97,
     "metadata": {},
     "output_type": "execute_result"
    }
   ],
   "source": [
    "construct_prob_dist(construct_dist_freq(one_hundred_random_scores))"
   ]
  },
  {
   "cell_type": "markdown",
   "metadata": {},
   "source": [
    "Let us plot the histogram."
   ]
  },
  {
   "cell_type": "code",
   "execution_count": 55,
   "metadata": {},
   "outputs": [
    {
     "data": {
      "text/plain": [
       "Text(0, 0.5, 'Probability')"
      ]
     },
     "execution_count": 55,
     "metadata": {},
     "output_type": "execute_result"
    },
    {
     "data": {
      "image/png": "[encoded data removed]",
      "text/plain": [
       "<Figure size 432x288 with 1 Axes>"
      ]
     },
     "metadata": {
      "needs_background": "light"
     },
     "output_type": "display_data"
    }
   ],
   "source": [
    "names = ['1', '2', '3', '4', '5']\n",
    "values = list(dist_freq.values())\n",
    "plt.bar(names,values)\n",
    "plt.title(\"Passive-Aggressive Traits\")\n",
    "plt.xlabel(\"Score\")\n",
    "plt.ylabel(\"Probability\")"
   ]
  },
  {
   "cell_type": "markdown",
   "metadata": {},
   "source": [
    "## <a id=\"4-2\">4.2 Binomial Distribution</a> (Back to [Home](#home))"
   ]
  },
  {
   "cell_type": "markdown",
   "metadata": {},
   "source": [
    "You can find our reference in [here](https://towardsdatascience.com/fun-with-the-binomial-distribution-96a5ecabf65b) "
   ]
  },
  {
   "cell_type": "code",
   "execution_count": 106,
   "metadata": {},
   "outputs": [],
   "source": [
    "# Import libraries\n",
    "import numpy as np\n",
    "import matplotlib.pyplot as plt\n",
    "import seaborn as sns# Input variables# Number of trials\n",
    "trials = 1000# Number of independent experiments in each trial\n",
    "n = 10 # Probability of success for each experiment\n",
    "p = 0.5# Function that runs our coin toss trials\n",
    "# heads is a list of the number of successes from each trial of n experiments\n",
    "def run_binom(trials, n, p):\n",
    "    heads = []\n",
    "    for i in range(trials):\n",
    "        tosses = [np.random.random() for i in range(n)]\n",
    "        heads.append(len([i for i in tosses if i>=0.50]))\n",
    "    return heads"
   ]
  },
  {
   "cell_type": "code",
   "execution_count": 117,
   "metadata": {},
   "outputs": [],
   "source": [
    "# Run the function\n",
    "heads = run_binom(trials, n, p)"
   ]
  },
  {
   "cell_type": "code",
   "execution_count": 121,
   "metadata": {},
   "outputs": [
    {
     "data": {
      "image/png": "[encoded data removed]",
      "text/plain": [
       "<Figure size 1008x504 with 1 Axes>"
      ]
     },
     "metadata": {
      "needs_background": "light"
     },
     "output_type": "display_data"
    }
   ],
   "source": [
    "# Plot the results as a histogram\n",
    "fig, ax = plt.subplots(figsize=(14,7))\n",
    "ax = sns.distplot(heads, bins=10, label='simulation results')\n",
    "ax.set_xlabel(\"Number of Heads\",fontsize=16)\n",
    "ax.set_ylabel(\"Frequency\",fontsize=16)\n",
    "\n",
    "# Plot the actual binomial distribution as a sanity check\n",
    "from scipy.stats import binom\n",
    "x = range(0,11)\n",
    "ax.plot(x, binom.pmf(x, n, p), 'ro', label='actual binomial distribution')\n",
    "ax.vlines(x, 0, binom.pmf(x, n, p), colors='r', lw=5, alpha=0.5)\n",
    "plt.legend()\n",
    "plt.show()"
   ]
  },
  {
   "cell_type": "code",
   "execution_count": 129,
   "metadata": {},
   "outputs": [
    {
     "data": {
      "text/plain": [
       "0.375"
      ]
     },
     "execution_count": 129,
     "metadata": {},
     "output_type": "execute_result"
    }
   ],
   "source": [
    "binom.pmf(1, 3, .5)"
   ]
  },
  {
   "cell_type": "markdown",
   "metadata": {},
   "source": [
    "## <a id=the-end>The End</a> (Back to [Home](#home))"
   ]
  }
 ],
 "metadata": {
  "kernelspec": {
   "display_name": "Python 3",
   "language": "python",
   "name": "python3"
  },
  "language_info": {
   "codemirror_mode": {
    "name": "ipython",
    "version": 3
   },
   "file_extension": ".py",
   "mimetype": "text/x-python",
   "name": "python",
   "nbconvert_exporter": "python",
   "pygments_lexer": "ipython3",
   "version": "3.7.6"
  }
 },
 "nbformat": 4,
 "nbformat_minor": 4
}
