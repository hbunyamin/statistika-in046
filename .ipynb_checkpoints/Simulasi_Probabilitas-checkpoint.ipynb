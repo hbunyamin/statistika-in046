{
 "cells": [
  {
   "cell_type": "markdown",
   "metadata": {},
   "source": [
    "# Simulasi Probabilitas atau Peluang"
   ]
  },
  {
   "cell_type": "markdown",
   "metadata": {},
   "source": [
    "![](bag-of-numbers.jpg)*Ten numbers; unfortunately, the image does not show a bag. Image taken from [The Therapy Store](https://www.thetherapystore.com.au/product/numbers-bean-bag-set/), some rights reserved.*"
   ]
  },
  {
   "cell_type": "markdown",
   "metadata": {},
   "source": [
    "## <a id=\"home\">Table of Contents</a>\n",
    "1. [Simulasi ke-1 pengambilan satu angka dengan mata tertutup](#satu-angka-pertama)\n",
    "2. [Simulasi ke-2 pengambilan satu angka dengan mata tertutup](#satu-angka-kedua)\n",
    "3. [Law of large numbers](#law-of-large-numbers)\n",
    "\n",
    "Go to [The End](#the-end)"
   ]
  },
  {
   "cell_type": "markdown",
   "metadata": {},
   "source": [
    "## <a id=\"satu-angka-pertama\">Simulasi ke-1 pengambilan satu angka dengan mata tertutup</a> (Back to [Home](#home))"
   ]
  },
  {
   "cell_type": "markdown",
   "metadata": {},
   "source": [
    "Diketahui `kantong_bilangan` yang berisi $10$ bilangan.    "
   ]
  },
  {
   "cell_type": "code",
   "execution_count": 3,
   "metadata": {},
   "outputs": [],
   "source": [
    "kantong_bilangan = [1,2,3,4,5,6,7,8,9,10]"
   ]
  },
  {
   "cell_type": "markdown",
   "metadata": {},
   "source": [
    "Misalkan kita hendak mengambil satu bilangan dari `kantong_bilangan` secara acak atau mata tertutup.     \n",
    "Untuk memilih satu bilangan dari `kantong_bilangan` secara acak, kita dapat memilih indeks ($0-9$) dari `kantong_bilangan` secara acak.     \n",
    "Kita dapat menggunakan kelas `random` dari _package_ `numpy`. "
   ]
  },
  {
   "cell_type": "code",
   "execution_count": 64,
   "metadata": {},
   "outputs": [],
   "source": [
    "%reload_ext autoreload\n",
    "%autoreload 2\n",
    "%matplotlib inline"
   ]
  },
  {
   "cell_type": "code",
   "execution_count": 65,
   "metadata": {},
   "outputs": [],
   "source": [
    "import matplotlib.pyplot as plt\n",
    "from numpy import random\n",
    "import numpy as np"
   ]
  },
  {
   "cell_type": "markdown",
   "metadata": {},
   "source": [
    "Kita gunakan _method_ `randint(10)` untuk memilih bilangan acak dari $0$ sampai dengan $9$."
   ]
  },
  {
   "cell_type": "code",
   "execution_count": 5,
   "metadata": {},
   "outputs": [
    {
     "name": "stdout",
     "output_type": "stream",
     "text": [
      "Bilangan acak yang dipilih adalah 2\n"
     ]
    }
   ],
   "source": [
    "indeks_acak = random.randint(10)\n",
    "bilangan_acak = kantong_bilangan[indeks_acak]\n",
    "print(f\"Bilangan acak yang dipilih adalah {bilangan_acak}\")"
   ]
  },
  {
   "cell_type": "markdown",
   "metadata": {},
   "source": [
    "### Pertanyaan:\n",
    "1. Berapakah peluang bilangan acak yang diambil adalah $4$?\n",
    "2. Lakukan pengambilan/pemilihan bilangan acak tersebut selama $10$ kali.     \n",
    "Tuliskan bilangan yang diambil di _cell_ bawah."
   ]
  },
  {
   "cell_type": "markdown",
   "metadata": {},
   "source": [
    "**Jawab**:     \n",
    "1. _Tulis jawaban anda di sini_    \n",
    "2. _Tulis jawaban anda di sini_    "
   ]
  },
  {
   "cell_type": "markdown",
   "metadata": {},
   "source": [
    "## <a id=\"satu-angka-kedua\">Simulasi ke-2 pengambilan satu angka dengan mata tertutup</a> (Back to [Home](#home))"
   ]
  },
  {
   "cell_type": "markdown",
   "metadata": {},
   "source": [
    "Misalkan `kantong_bilangan` yang kita punya dimodifikasi menjadi sbb:"
   ]
  },
  {
   "cell_type": "code",
   "execution_count": 37,
   "metadata": {},
   "outputs": [],
   "source": [
    "kantong_bilangan = [4,4,4,4,4,4,4,4,9,10]"
   ]
  },
  {
   "cell_type": "code",
   "execution_count": 38,
   "metadata": {},
   "outputs": [
    {
     "name": "stdout",
     "output_type": "stream",
     "text": [
      "Bilangan acak yang dipilih adalah 10\n"
     ]
    }
   ],
   "source": [
    "indeks_acak = random.randint(10)\n",
    "bilangan_acak = kantong_bilangan[indeks_acak]\n",
    "print(f\"Bilangan acak yang dipilih adalah {bilangan_acak}\")"
   ]
  },
  {
   "cell_type": "markdown",
   "metadata": {},
   "source": [
    "### Pertanyaan:\n",
    "1. Berapakah peluang bilangan acak yang diambil adalah $4$?\n",
    "2. Lakukan pengambilan/pemilihan bilangan acak tersebut selama $10$ kali.     \n",
    "Tuliskan bilangan yang diambil di _cell_ bawah."
   ]
  },
  {
   "cell_type": "markdown",
   "metadata": {},
   "source": [
    "**Jawab**:     \n",
    "1. _Tulis jawaban anda di sini_    \n",
    "2. _Tulis jawaban anda di sini_    "
   ]
  },
  {
   "cell_type": "markdown",
   "metadata": {},
   "source": [
    "## <a id=\"law-of-large-numbers\">Law of Large Numbers</a> (Back to [Home](#home))"
   ]
  },
  {
   "cell_type": "markdown",
   "metadata": {},
   "source": [
    "**Law of large numbers** ada di halaman **136** dari buku teks."
   ]
  },
  {
   "cell_type": "markdown",
   "metadata": {},
   "source": [
    "> #### LAW OF LARGE NUMBERS\n",
    "As _an experiment is repeated over and over, the empirical probability of an event_ **approaches the theoretical (actual) probability of the event**."
   ]
  },
  {
   "cell_type": "code",
   "execution_count": 116,
   "metadata": {},
   "outputs": [],
   "source": [
    "# Maksimum pengambilan yang dilakukan\n",
    "MAX_AMBIL = 200\n",
    "num_of_ambil = np.arange(1,MAX_AMBIL+1)"
   ]
  },
  {
   "cell_type": "code",
   "execution_count": 117,
   "metadata": {},
   "outputs": [
    {
     "name": "stdout",
     "output_type": "stream",
     "text": [
      "Peluang angka 4 dengan banyak eksperimen 10 adalah 0.1\n",
      "Peluang angka 4 dengan banyak eksperimen 20 adalah 0.05\n",
      "Peluang angka 4 dengan banyak eksperimen 30 adalah 0.2\n",
      "Peluang angka 4 dengan banyak eksperimen 40 adalah 0.15\n",
      "Peluang angka 4 dengan banyak eksperimen 50 adalah 0.1\n",
      "Peluang angka 4 dengan banyak eksperimen 60 adalah 0.016666666666666666\n",
      "Peluang angka 4 dengan banyak eksperimen 70 adalah 0.15714285714285714\n",
      "Peluang angka 4 dengan banyak eksperimen 80 adalah 0.0625\n",
      "Peluang angka 4 dengan banyak eksperimen 90 adalah 0.05555555555555555\n",
      "Peluang angka 4 dengan banyak eksperimen 100 adalah 0.15\n",
      "Peluang angka 4 dengan banyak eksperimen 110 adalah 0.10909090909090909\n",
      "Peluang angka 4 dengan banyak eksperimen 120 adalah 0.06666666666666667\n",
      "Peluang angka 4 dengan banyak eksperimen 130 adalah 0.12307692307692308\n",
      "Peluang angka 4 dengan banyak eksperimen 140 adalah 0.10714285714285714\n",
      "Peluang angka 4 dengan banyak eksperimen 150 adalah 0.15333333333333332\n",
      "Peluang angka 4 dengan banyak eksperimen 160 adalah 0.09375\n",
      "Peluang angka 4 dengan banyak eksperimen 170 adalah 0.09411764705882353\n",
      "Peluang angka 4 dengan banyak eksperimen 180 adalah 0.11666666666666667\n",
      "Peluang angka 4 dengan banyak eksperimen 190 adalah 0.08421052631578947\n",
      "Peluang angka 4 dengan banyak eksperimen 200 adalah 0.095\n"
     ]
    }
   ],
   "source": [
    "# Inisialisasi kantong_bilangan mula-mula\n",
    "kantong_bilangan = [1,2,3,4,5,6,7,8,9,10]\n",
    "\n",
    "# Inisialisasi frekuensi kemunculan angka 4\n",
    "proportion_of_heads = []\n",
    "\n",
    "# Untuk setiap pengambilan \n",
    "for counter_toss in num_of_ambil:\n",
    "    # Initialize frekuensi kemunculan angka 4\n",
    "    frek_angka_4 = 0\n",
    "    \n",
    "    # Memulai pengambilan dari 0 sampai dengan (counter_toss - 1)\n",
    "    for counter in range(counter_toss):\n",
    "        # Memilih indeks dari dari 0 sampai dengan 9 \n",
    "        indeks_acak = random.randint(10)\n",
    "        bil_acak = kantong_bilangan[indeks_acak]\n",
    "        if bil_acak == 4:\n",
    "            frek_angka_4 += 1\n",
    "    prob_angka_4 = float(frek_angka_4) / counter_toss\n",
    "    proportion_of_heads.append(prob_angka_4)    \n",
    "    if counter_toss % 10 == 0:\n",
    "        print(f\"Peluang angka 4 dengan banyak eksperimen {counter_toss} adalah {prob_angka_4}\")"
   ]
  },
  {
   "cell_type": "code",
   "execution_count": 118,
   "metadata": {},
   "outputs": [
    {
     "data": {
      "text/plain": [
       "Text(0, 0.5, 'Proportions that are 4')"
      ]
     },
     "execution_count": 118,
     "metadata": {},
     "output_type": "execute_result"
    },
    {
     "data": {
      "image/png": "[encoded data removed]",
      "text/plain": [
       "<Figure size 432x288 with 1 Axes>"
      ]
     },
     "metadata": {
      "needs_background": "light"
     },
     "output_type": "display_data"
    }
   ],
   "source": [
    "# x_coordinates = [0,0.1]\n",
    "# y_coordinates = [MAX_TOSSES,0.1]\n",
    "plt.plot(num_of_tosses, proportion_of_heads)\n",
    "plt.hlines(0.1, 1, MAX_AMBIL, colors='k', linestyles='solid')\n",
    "plt.xlabel(\"Number of pengambilan\")\n",
    "plt.ylabel(\"Proportions that are 4\")"
   ]
  },
  {
   "cell_type": "markdown",
   "metadata": {},
   "source": [
    "Dalam eksperimen berikut, isi dari kantong bilangan diubah sedikit."
   ]
  },
  {
   "cell_type": "code",
   "execution_count": 107,
   "metadata": {},
   "outputs": [],
   "source": [
    "MAX_TOSSES = 200\n",
    "num_of_tosses = np.arange(1,MAX_TOSSES+1)"
   ]
  },
  {
   "cell_type": "code",
   "execution_count": 108,
   "metadata": {},
   "outputs": [
    {
     "name": "stdout",
     "output_type": "stream",
     "text": [
      "Peluang angka 4 dengan banyak eksperimen 10 adalah 0.8\n",
      "Peluang angka 4 dengan banyak eksperimen 20 adalah 0.75\n",
      "Peluang angka 4 dengan banyak eksperimen 30 adalah 0.8\n",
      "Peluang angka 4 dengan banyak eksperimen 40 adalah 0.825\n",
      "Peluang angka 4 dengan banyak eksperimen 50 adalah 0.7\n",
      "Peluang angka 4 dengan banyak eksperimen 60 adalah 0.65\n",
      "Peluang angka 4 dengan banyak eksperimen 70 adalah 0.7714285714285715\n",
      "Peluang angka 4 dengan banyak eksperimen 80 adalah 0.8375\n",
      "Peluang angka 4 dengan banyak eksperimen 90 adalah 0.8222222222222222\n",
      "Peluang angka 4 dengan banyak eksperimen 100 adalah 0.8\n",
      "Peluang angka 4 dengan banyak eksperimen 110 adalah 0.8181818181818182\n",
      "Peluang angka 4 dengan banyak eksperimen 120 adalah 0.7583333333333333\n",
      "Peluang angka 4 dengan banyak eksperimen 130 adalah 0.8461538461538461\n",
      "Peluang angka 4 dengan banyak eksperimen 140 adalah 0.8428571428571429\n",
      "Peluang angka 4 dengan banyak eksperimen 150 adalah 0.7733333333333333\n",
      "Peluang angka 4 dengan banyak eksperimen 160 adalah 0.8625\n",
      "Peluang angka 4 dengan banyak eksperimen 170 adalah 0.7352941176470589\n",
      "Peluang angka 4 dengan banyak eksperimen 180 adalah 0.8277777777777777\n",
      "Peluang angka 4 dengan banyak eksperimen 190 adalah 0.8157894736842105\n",
      "Peluang angka 4 dengan banyak eksperimen 200 adalah 0.81\n"
     ]
    }
   ],
   "source": [
    "# Inisialisasi kantong_bilangan mula-mula\n",
    "kantong_bilangan = [4,4,4,4,4,4,4,4,9,10]\n",
    "\n",
    "# Inisialisasi frekuensi kemunculan angka 4\n",
    "proportion_of_heads = []\n",
    "for counter_toss in num_of_tosses:\n",
    "    frek_angka_4 = 0\n",
    "    for counter in range(counter_toss):\n",
    "        indeks_acak = random.randint(10)\n",
    "        bil_acak = kantong_bilangan[indeks_acak]\n",
    "        if bil_acak == 4:\n",
    "            frek_angka_4 += 1\n",
    "    prob_angka_4 = float(frek_angka_4) / counter_toss\n",
    "    proportion_of_heads.append(prob_angka_4)    \n",
    "    if counter_toss % 10 == 0:\n",
    "        print(f\"Peluang angka 4 dengan banyak eksperimen {counter_toss} adalah {prob_angka_4}\")"
   ]
  },
  {
   "cell_type": "code",
   "execution_count": 110,
   "metadata": {},
   "outputs": [
    {
     "data": {
      "text/plain": [
       "Text(0, 0.5, 'Proportions that are 4')"
      ]
     },
     "execution_count": 110,
     "metadata": {},
     "output_type": "execute_result"
    },
    {
     "data": {
      "image/png": "[encoded data removed]",
      "text/plain": [
       "<Figure size 432x288 with 1 Axes>"
      ]
     },
     "metadata": {
      "needs_background": "light"
     },
     "output_type": "display_data"
    }
   ],
   "source": [
    "# x_coordinates = [0,0.1]\n",
    "# y_coordinates = [MAX_TOSSES,0.1]\n",
    "plt.plot(num_of_tosses, proportion_of_heads)\n",
    "plt.hlines(0.8, 1, MAX_TOSSES, colors='k', linestyles='solid')\n",
    "plt.xlabel(\"Number of tosses\")\n",
    "plt.ylabel(\"Proportions that are 4\")"
   ]
  },
  {
   "cell_type": "markdown",
   "metadata": {},
   "source": [
    "## <a id=\"the-end\">The End</a> (Back to [Home](#home))"
   ]
  }
 ],
 "metadata": {
  "kernelspec": {
   "display_name": "Python 3",
   "language": "python",
   "name": "python3"
  },
  "language_info": {
   "codemirror_mode": {
    "name": "ipython",
    "version": 3
   },
   "file_extension": ".py",
   "mimetype": "text/x-python",
   "name": "python",
   "nbconvert_exporter": "python",
   "pygments_lexer": "ipython3",
   "version": "3.7.6"
  }
 },
 "nbformat": 4,
 "nbformat_minor": 4
}
